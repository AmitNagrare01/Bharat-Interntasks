{
 "cells": [
  {
   "cell_type": "code",
   "execution_count": 1,
   "id": "f950b1f2",
   "metadata": {},
   "outputs": [],
   "source": [
    "from spello.model import SpellCorrectionModel"
   ]
  },
  {
   "cell_type": "code",
   "execution_count": 2,
   "id": "362fc6e5",
   "metadata": {},
   "outputs": [],
   "source": [
    "sp = SpellCorrectionModel(language=\"en\")"
   ]
  },
  {
   "cell_type": "code",
   "execution_count": 3,
   "id": "a6e26a86",
   "metadata": {},
   "outputs": [],
   "source": [
    "with open(\"C:\\\\Users\\\\DELL\\\\words.txt\", \"r\") as file:\n",
    "    data = file.readlines()"
   ]
  },
  {
   "cell_type": "code",
   "execution_count": 4,
   "id": "1888f534",
   "metadata": {},
   "outputs": [],
   "source": [
    "data = [i.strip() for i in data]"
   ]
  },
  {
   "cell_type": "code",
   "execution_count": 5,
   "id": "bb39a283",
   "metadata": {},
   "outputs": [
    {
     "name": "stdout",
     "output_type": "stream",
     "text": [
      "Spello training started..\n",
      "Context model training started ...\n",
      "Symspell training started ...\n",
      "Phoneme training started ...\n",
      "Spello training completed successfully ...\n"
     ]
    }
   ],
   "source": [
    "sp.train(data)"
   ]
  },
  {
   "cell_type": "code",
   "execution_count": 6,
   "id": "a456706a",
   "metadata": {},
   "outputs": [
    {
     "data": {
      "text/plain": [
       "'.\\\\model.pkl'"
      ]
     },
     "execution_count": 6,
     "metadata": {},
     "output_type": "execute_result"
    }
   ],
   "source": [
    "sp.save(\"\")"
   ]
  },
  {
   "cell_type": "code",
   "execution_count": 9,
   "id": "87f3aaeb",
   "metadata": {},
   "outputs": [
    {
     "data": {
      "text/plain": [
       "<spello.model.SpellCorrectionModel at 0x1df56c1ed10>"
      ]
     },
     "execution_count": 9,
     "metadata": {},
     "output_type": "execute_result"
    }
   ],
   "source": [
    "sp.load(\"model.pkl\")"
   ]
  },
  {
   "cell_type": "code",
   "execution_count": 10,
   "id": "04fbdf1c",
   "metadata": {},
   "outputs": [
    {
     "name": "stdout",
     "output_type": "stream",
     "text": [
      "Enter the word/sentence : measuuremets\n"
     ]
    }
   ],
   "source": [
    "sentence = input(\"Enter the word/sentence : \")"
   ]
  },
  {
   "cell_type": "code",
   "execution_count": 11,
   "id": "676726cf",
   "metadata": {},
   "outputs": [],
   "source": [
    "words = sentence.split()"
   ]
  },
  {
   "cell_type": "code",
   "execution_count": 12,
   "id": "2186c72d",
   "metadata": {},
   "outputs": [],
   "source": [
    "correct_words = []\n",
    "for word in words:\n",
    "    corrected = sp.spell_correct(word)\n",
    "    correct_words.append(corrected['spell_corrected_text'])"
   ]
  },
  {
   "cell_type": "code",
   "execution_count": 13,
   "id": "05b6cbc6",
   "metadata": {},
   "outputs": [
    {
     "data": {
      "text/plain": [
       "'measurements'"
      ]
     },
     "execution_count": 13,
     "metadata": {},
     "output_type": "execute_result"
    }
   ],
   "source": [
    "corrected_sentence = \" \".join(correct_words)\n",
    "\n",
    "corrected_sentence"
   ]
  },
  {
   "cell_type": "code",
   "execution_count": null,
   "id": "287caf31",
   "metadata": {},
   "outputs": [],
   "source": []
  }
 ],
 "metadata": {
  "kernelspec": {
   "display_name": "Python 3 (ipykernel)",
   "language": "python",
   "name": "python3"
  },
  "language_info": {
   "codemirror_mode": {
    "name": "ipython",
    "version": 3
   },
   "file_extension": ".py",
   "mimetype": "text/x-python",
   "name": "python",
   "nbconvert_exporter": "python",
   "pygments_lexer": "ipython3",
   "version": "3.11.3"
  }
 },
 "nbformat": 4,
 "nbformat_minor": 5
}
